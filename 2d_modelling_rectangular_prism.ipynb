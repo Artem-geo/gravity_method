{
 "cells": [
  {
   "cell_type": "markdown",
   "id": "marine-constant",
   "metadata": {},
   "source": [
    "### Forward modelling using GAMMA algorithm (2D)"
   ]
  },
  {
   "cell_type": "markdown",
   "id": "initial-barbados",
   "metadata": {},
   "source": [
    "Interactive modelling below is a realisation of GAMMA algorithm (Gravity and Magnetic Modeling Application) for the 2D cases (Saad, 1991, 1992, 1993).<br>\n",
    "The GAMMA algorithms are based on the geometric attributes of an elongated source with a polygonal cross-section perpendicular to the strike that is invariant along the strike direction (Hinze et al., 2013).<br>"
   ]
  },
  {
   "cell_type": "markdown",
   "id": "prime-darkness",
   "metadata": {},
   "source": [
    "Below there are the equations for the symmetric 2D case"
   ]
  },
  {
   "cell_type": "markdown",
   "id": "loved-soccer",
   "metadata": {},
   "source": [
    "$F_x = 2G \\sigma \\sum_{i=1}^N w_{1}'[C \\times DLR + S \\times DAT] \\quad \\quad F_z = g = 2G \\sigma \\sum_{i=1}^N w_{1}'[S \\times DLR - C \\times DAT]$"
   ]
  },
  {
   "cell_type": "markdown",
   "id": "powered-gasoline",
   "metadata": {},
   "source": [
    "<img src=\"./gamma2d.png\" width=357 height=331 />"
   ]
  },
  {
   "cell_type": "markdown",
   "id": "coordinated-permission",
   "metadata": {},
   "source": [
    "$DX = (x_2' - X_1') \\quad DZ = (z_2' - z_1') \\quad DL = [(DX)^2 + (DZ)^2)]^{1/2}$"
   ]
  },
  {
   "cell_type": "markdown",
   "id": "optical-texas",
   "metadata": {},
   "source": [
    "$C = cos \\phi_1 = DX/DL \\quad S = sin \\phi_1 = DZ / DL$"
   ]
  },
  {
   "cell_type": "markdown",
   "id": "grave-exhibition",
   "metadata": {},
   "source": [
    "$w_i' = -Sx_i' + Cx_i' \\quad and \\quad (w_i' = w_{i+1}')$"
   ]
  },
  {
   "cell_type": "markdown",
   "id": "italian-focus",
   "metadata": {},
   "source": [
    "$DLR = ln(R_1) - ln(R_2) = ln(R_1/R_2) \\quad DAT = tan^{-1}(z_1'/x_1') - tan^{-1}(z_2'/x_2')$"
   ]
  },
  {
   "cell_type": "markdown",
   "id": "leading-calculator",
   "metadata": {},
   "source": [
    "##### References\n",
    "- Saad, A.H. 1991. Interactive Borehole Gravity Modeling (BHGM) with GAMMA. ICGC paper, Chevron InterCompany Geophys. Conf.\n",
    "- Saad, A.H. 1992. GAMMA User’s Manual – Interactive Gravity And Magnetic Modeling Applications Program. Report, Chevron Expl. & Prod. Services Co.\n",
    "- Saad, A.H. 1993. Interactive integrated interpretation of gravity, magnetic, and seismic data tools and examples. In Offshore Technology Conference, Paper Number OTC# 7079. Offshore Technology Conference, pp. 35–44.\n",
    "- William J. Hinze et al. 1993, Gravity and Magnetic Exploration. Principles, Practices, and Applications. Cambridge University Press"
   ]
  },
  {
   "cell_type": "code",
   "execution_count": 1,
   "id": "numeric-county",
   "metadata": {},
   "outputs": [],
   "source": [
    "import numpy as np\n",
    "\n",
    "import matplotlib.pyplot as plt\n",
    "from matplotlib.patches import Polygon\n",
    "\n",
    "import warnings\n",
    "warnings.filterwarnings('ignore')"
   ]
  },
  {
   "cell_type": "code",
   "execution_count": 2,
   "id": "covered-blood",
   "metadata": {},
   "outputs": [],
   "source": [
    "class GAMMA2D(object):\n",
    "    \n",
    "    G = 6.67 * 10**(-11)  # gravitational constant\n",
    "    \n",
    "    def __init__(self, surv_points, corners, dsigma):\n",
    "        self.surv_points = surv_points\n",
    "        self.corners = corners\n",
    "        self.dsigma = dsigma\n",
    "        self.model = None\n",
    "    \n",
    "    def distance(self, point1, point2):\n",
    "        return np.sqrt((point2[0]-point1[0])**2 + (point2[1]-point1[1])**2)\n",
    "    \n",
    "    def field_comp_point(self, point):\n",
    "        \n",
    "        Fx_corners = []\n",
    "        Fz_corners = []\n",
    "\n",
    "        point_local = point.copy()\n",
    "        \n",
    "        point_local[0] = point_local[0] - point[0]\n",
    "        point_local[1] = point_local[1] - point[1]\n",
    "\n",
    "        corners_local = self.corners.copy()\n",
    "        corners_local[:, 0] = corners_local[:, 0] - point[0]\n",
    "        corners_local[:, 1] = corners_local[:, 1] - point[1]\n",
    "\n",
    "        for corner in range(-1, len(corners_local)):\n",
    "            if corner == len(corners_local)-1:\n",
    "                break\n",
    "            \n",
    "            DL = self.distance(corners_local[corner], corners_local[corner+1])\n",
    "            DX = corners_local[corner+1][0] - corners_local[corner][0]\n",
    "            DZ = corners_local[corner+1][1] - corners_local[corner][1]\n",
    "\n",
    "            R1 = self.distance(corners_local[corner], point_local)\n",
    "            R2 = self.distance(corners_local[corner+1], point_local)\n",
    "            \n",
    "            C = DX/DL\n",
    "            S = DZ/DL\n",
    "            \n",
    "            w1_prime = -S * corners_local[corner][0] + C * corners_local[corner][1]\n",
    "                        \n",
    "            DLR = np.log(R1/R2)\n",
    "                \n",
    "            DAT = np.arctan2(corners_local[corner][1], corners_local[corner][0]) - \\\n",
    "                  np.arctan2(corners_local[corner+1][1], corners_local[corner+1][0])\n",
    "            \n",
    "            Fx_corners.append(w1_prime * (C*DLR + S*DAT))\n",
    "            Fz_corners.append(w1_prime* (S*DLR - C*DAT))\n",
    "            \n",
    "        Fx = 2 * self.G * self.dsigma * np.sum(Fx_corners)\n",
    "        Fz = 2 * self.G * self.dsigma * np.sum(Fz_corners)\n",
    "        \n",
    "        return Fx, Fz\n",
    "            \n",
    "    def field_comp_profile(self):\n",
    "        self.model = np.array(list(map(lambda x: self.field_comp_point(x), self.surv_points)))\n",
    "        return self.model"
   ]
  },
  {
   "cell_type": "code",
   "execution_count": 3,
   "id": "measured-universal",
   "metadata": {},
   "outputs": [],
   "source": [
    "class RectPrism(object):\n",
    "    def __init__(self, width, height, depth, dip, dsigma, cs=False):\n",
    "        self.width = width\n",
    "        self.height = height\n",
    "        self.depth = depth\n",
    "        self.dip = dip\n",
    "        self.dsigma = dsigma\n",
    "        self.cs = cs\n",
    "        self.corners = self.corners()\n",
    "  \n",
    "    def corners(self):        \n",
    "        \n",
    "        # absolute values of x and y coordinates of corners\n",
    "        x_abs = self.width/2\n",
    "        y_abs = self.height/2\n",
    "        \n",
    "        # matrix with coordinates of corners\n",
    "        c = np.array([[-x_abs, y_abs],\n",
    "                      [x_abs, y_abs],\n",
    "                      [x_abs, -y_abs],\n",
    "                      [-x_abs, -y_abs]])\n",
    "        \n",
    "        # shear matrix\n",
    "        R = np.array([[1, np.tan(np.radians(self.dip))],\n",
    "                     [0, 1]])\n",
    "        \n",
    "        corners = R.dot(c.T)\n",
    "        corners = corners.T\n",
    "        \n",
    "        if self.cs:\n",
    "            corners[:, 0] = corners[:, 0] - corners[:2, 0].mean()\n",
    "            corners[:, 1] = np.abs(corners[:, 1] - (self.depth + self.height/2))\n",
    "        \n",
    "        return corners     \n",
    "            \n",
    "    def plot(self, ax):\n",
    "        ax.add_patch(Polygon(self.corners))"
   ]
  },
  {
   "cell_type": "code",
   "execution_count": 4,
   "id": "considered-rouge",
   "metadata": {},
   "outputs": [],
   "source": [
    "def plot_rectangle(rect, ax):\n",
    "    rect.plot(ax)\n",
    "    ax.set_xlim(-500, 500)\n",
    "    ax.set_ylim(-500, 500)\n",
    "    ax.set_aspect('equal', adjustable='box')\n",
    "    ax.grid(b=True, linestyle='--')\n",
    "    ax.set_xlabel('East (m)')\n",
    "    ax.set_ylabel('North (m)')"
   ]
  },
  {
   "cell_type": "code",
   "execution_count": 5,
   "id": "annoying-verse",
   "metadata": {},
   "outputs": [],
   "source": [
    "def plot_2d_body(rect, ax):\n",
    "    \n",
    "    rect.plot(ax)\n",
    "    \n",
    "    text = f'Width: {rect.width} m\\nHeight: {rect.height} m\\nDepth: {rect.depth} m\\n$\\Delta\\sigma_1$: {rect.dsigma} kg/m$^3$\\n'\n",
    "    ax.text(x=700, y=400, s=text,\n",
    "                bbox=dict(boxstyle='round', facecolor='white'))\n",
    "    \n",
    "    ax.set_xlim(-1000, 1000)\n",
    "    ax.set_ylim(0, 500)\n",
    "    \n",
    "    ax.set_xticks(np.arange(-1000, 1001, 100))\n",
    "    ax.xaxis.set_ticks_position('top')\n",
    "    ax.grid(b=True, axis='y', linestyle='--')\n",
    "    \n",
    "    ax.set_ylabel('Depth (m)')\n",
    "    \n",
    "    ax.invert_yaxis()"
   ]
  },
  {
   "cell_type": "code",
   "execution_count": 6,
   "id": "adverse-tournament",
   "metadata": {},
   "outputs": [],
   "source": [
    "def plot_graph(model, values, ax): \n",
    "    \n",
    "    ax.plot(model.surv_points[:, 0], values)\n",
    "    \n",
    "    ax.set_xlim(-1000, 1000)\n",
    "    ax.set_xticks(np.arange(-1000, 1001, 100))\n",
    "    ax.grid(b=True, axis='y', linestyle='--')\n",
    "    \n",
    "    ax.set_xlabel('Distance (m)')\n",
    "    ax.set_ylabel('g (mGal)')"
   ]
  },
  {
   "cell_type": "code",
   "execution_count": 7,
   "id": "incorporate-delivery",
   "metadata": {},
   "outputs": [],
   "source": [
    "def cylinder_modelling(width, height, depth, angle, dsigma):\n",
    "    \n",
    "    fig, axs = plt.subplot_mosaic([[0, 1, 1, 1], [0, 3, 3, 3]], figsize=(15, 6))   \n",
    "    \n",
    "    rect = RectPrism(width=width, height=1500, depth=0, dip=0, dsigma=dsigma, cs=False)\n",
    "    plot_rectangle(rect, ax=axs[0])\n",
    "    \n",
    "    prism = RectPrism(width=width, height=height, depth=depth, dip=angle, dsigma=dsigma, cs=True)\n",
    "    plot_2d_body(prism, ax=axs[3])\n",
    "    \n",
    "    x = np.linspace(-1000, 1000, 200).reshape(-1, 1)\n",
    "    z = np.zeros(200).reshape(-1, 1)\n",
    "    surv_points = np.concatenate([x, z], axis=1)\n",
    "    \n",
    "    model = GAMMA2D(surv_points=surv_points, corners=prism.corners, dsigma=prism.dsigma)\n",
    "    field = model.field_comp_profile()\n",
    "    plot_graph(model, field[:, 1] * 100000, axs[1])\n",
    "    \n",
    "    plt.tight_layout();"
   ]
  },
  {
   "cell_type": "code",
   "execution_count": 8,
   "id": "growing-print",
   "metadata": {},
   "outputs": [
    {
     "data": {
      "image/png": "[encoded data removed]",
      "text/plain": [
       "<Figure size 1080x432 with 3 Axes>"
      ]
     },
     "metadata": {
      "needs_background": "light"
     },
     "output_type": "display_data"
    }
   ],
   "source": [
    "cylinder_modelling(200, 200, 100, 0, 500)"
   ]
  }
 ],
 "metadata": {
  "kernelspec": {
   "display_name": "Python 3",
   "language": "python",
   "name": "python3"
  },
  "language_info": {
   "codemirror_mode": {
    "name": "ipython",
    "version": 3
   },
   "file_extension": ".py",
   "mimetype": "text/x-python",
   "name": "python",
   "nbconvert_exporter": "python",
   "pygments_lexer": "ipython3",
   "version": "3.8.5"
  }
 },
 "nbformat": 4,
 "nbformat_minor": 5
}
