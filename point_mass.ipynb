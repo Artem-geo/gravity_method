{
 "cells": [
  {
   "cell_type": "markdown",
   "id": "6133d426-aaa5-4d83-a74c-2e2aeca32155",
   "metadata": {},
   "source": [
    "### Gravity effect of a point mass"
   ]
  },
  {
   "cell_type": "markdown",
   "id": "6ac86213-a8b5-4429-b2eb-420661af8668",
   "metadata": {},
   "source": [
    "$U = G \\frac{M}{R}$"
   ]
  },
  {
   "cell_type": "markdown",
   "id": "707d4432-55a5-4c89-8cea-42f82780cb35",
   "metadata": {},
   "source": [
    "$F_x = -G \\frac{m\\Delta x}{R^3} \\quad F_y = -G \\frac{m\\Delta y}{R^3} \\quad F_z = -G \\frac{m\\Delta z}{R^3}$"
   ]
  },
  {
   "cell_type": "markdown",
   "id": "38021627-e73f-4447-8d19-1409bec0bb72",
   "metadata": {},
   "source": [
    "$U$ - gravitational potential, $G$ - gravitational constant ($G = 6.77 * 10^{-11} m^3 kg^{-1}s^{-2}$), $R$ - displacement vector (distance between source and current points), $F_x, F_y, F_z$ - gravity vector components, "
   ]
  },
  {
   "cell_type": "code",
   "execution_count": 1,
   "id": "948870d3-6f97-4036-86d8-5c12c4486b08",
   "metadata": {},
   "outputs": [],
   "source": [
    "import numpy as np\n",
    "import ipywidgets as widgets\n",
    "from ipywidgets import interact, interactive\n",
    "from IPython.display import display"
   ]
  },
  {
   "cell_type": "code",
   "execution_count": 2,
   "id": "c2caa0a6-2e54-40a9-a472-6fda098b1335",
   "metadata": {},
   "outputs": [],
   "source": [
    "import matplotlib.pyplot as plt\n",
    "from matplotlib import colors"
   ]
  },
  {
   "cell_type": "code",
   "execution_count": 3,
   "id": "bab0a5a4-140e-4e49-b923-fbef37e2d039",
   "metadata": {},
   "outputs": [],
   "source": [
    "def potential_total_force(m, ns, es, ds):\n",
    "\n",
    "    G = 6.67 * 10**-11\n",
    "\n",
    "    X = np.linspace(-1500, 1500, 50)\n",
    "    Y = np.linspace(-1500, 1500, 50)\n",
    "    Z = np.linspace(0, 500, 25)\n",
    "\n",
    "    N, E, D = np.meshgrid(X, Y, Z)\n",
    "    \n",
    "    r = np.sqrt((N-ns)**2 + (E-es)**2 + (D-ds)**2)\n",
    "    \n",
    "    U = G * m/r\n",
    "    F_total = -G * m/(r**2)\n",
    "    \n",
    "    Fx = -G * m * (N[:, :, 0] - ns)/(r[:, :, 0]**3) * 100000\n",
    "    Fy = -G * m * (E[:, :, 0] - es)/(r[:, :, 0]**3) * 100000\n",
    "    Fz = -G * m * (D[:, :, 0] - ds)/(r[:, :, 0]**3) * 100000\n",
    "    \n",
    "    fig, axs = plt.subplots(nrows=1, ncols=4,\n",
    "                           figsize=(15, 4))\n",
    "\n",
    "    im1 = axs[0].contourf(E[:, :, 0], N[:, :, 0], U[:, :, 0],\n",
    "                       levels=np.linspace(np.quantile(U, 0.05), np.quantile(U, 0.95), 20),\n",
    "                       extend='both', cmap='viridis', alpha=0.6)\n",
    "    axs[0].set_title('Grav.potential', fontweight='bold')  \n",
    "    axs[0].set_xlabel(r'$East (m)$', labelpad=.5)\n",
    "    axs[0].set_ylabel(r'$North (m)$', labelpad=.5)\n",
    "    cb = fig.colorbar(im1, ax = axs[0], orientation='horizontal', label=r'$U (m^2 / s^2)$', pad=0.17, format='%.2f')\n",
    "    cb.ax.locator_params(nbins=5)\n",
    "\n",
    "    \n",
    "    im2 = axs[1].contourf(E[:, :, 0], N[:, :, 0], Fx, \n",
    "                          levels=np.linspace(np.quantile(Fx, 0.05), np.quantile(Fx, 0.95), 20),\n",
    "                          extend='both', cmap='coolwarm', alpha=0.6)\n",
    "    axs[1].set_title('Grav.vector component X', fontweight='bold')\n",
    "    axs[1].set_xlabel(r'$East (m)$', labelpad=.5)\n",
    "    axs[1].set_ylabel(r'$North (m)$', labelpad=.5)\n",
    "    cb = fig.colorbar(im2, ax=axs[1], orientation='horizontal', label=r'$F_x (mGal)$', pad=0.17)\n",
    "    cb.ax.locator_params(nbins=5)\n",
    "    \n",
    "    im3 = axs[2].contourf(E[:, :, 0], N[:, :, 0], Fy,\n",
    "                         levels=np.linspace(np.quantile(Fy, 0.05), np.quantile(Fy, 0.95), 20),\n",
    "                         extend='both', cmap='coolwarm', alpha=0.6)\n",
    "    axs[2].set_title('Grav.vector component Y', fontweight='bold')\n",
    "    axs[2].set_xlabel(r'$East (m)$', labelpad=.5)\n",
    "    axs[2].set_ylabel(r'$North (m)$', labelpad=.5)\n",
    "    cb = fig.colorbar(im3, ax=axs[2], orientation='horizontal', label=r'$F_y (mGal)$', pad=0.17)\n",
    "    cb.ax.locator_params(nbins=5)\n",
    "        \n",
    "    im4 = axs[3].contourf(E[:, :, 0], N[:, :, 0], Fz,\n",
    "                         levels=np.linspace(np.quantile(Fz, 0.05), np.quantile(Fz, 0.95), 20),\n",
    "                         extend='both', cmap='coolwarm', alpha=0.6)\n",
    "    axs[3].set_title('Grav.vector component Z', fontweight='bold')\n",
    "    axs[3].set_xlabel(r'$East (m)$', labelpad=.5)\n",
    "    axs[3].set_ylabel(r'$North (m)$', labelpad=.5)\n",
    "    cb = fig.colorbar(im4, ax=axs[3], orientation='horizontal', label=r'$F_z (mGal)$', pad=0.17)\n",
    "    cb.ax.locator_params(nbins=5)\n",
    "    \n",
    "    \n",
    "    plt.tight_layout()"
   ]
  },
  {
   "cell_type": "code",
   "execution_count": 4,
   "id": "28b5a7cb-cabc-4335-8445-4b80950bf94a",
   "metadata": {},
   "outputs": [
    {
     "data": {
      "application/vnd.jupyter.widget-view+json": {
       "model_id": "3ea2ca86a8694120bad050d4396df017",
       "version_major": 2,
       "version_minor": 0
      },
      "text/plain": [
       "interactive(children=(IntSlider(value=100, description='M: ', max=1000000000000, min=100, step=10), IntSlider(…"
      ]
     },
     "metadata": {},
     "output_type": "display_data"
    }
   ],
   "source": [
    "interact(potential_total_force,\n",
    "         m=widgets.IntSlider(min=10**2, max=10**12,\n",
    "                             step=10, description=r'M: '),\n",
    "         ns=widgets.IntSlider(value=0, min=-1500, max=1500,\n",
    "                         step=10, description=r'X: '),\n",
    "         es=widgets.IntSlider(value=0, min=-1500, max=1500,\n",
    "                         step=10, description=r'Y: '),\n",
    "         ds=widgets.IntSlider(value=250, min=10, max=500, \n",
    "                       step=10, description=r'Z: '));"
   ]
  }
 ],
 "metadata": {
  "kernelspec": {
   "display_name": "Python 3",
   "language": "python",
   "name": "python3"
  },
  "language_info": {
   "codemirror_mode": {
    "name": "ipython",
    "version": 3
   },
   "file_extension": ".py",
   "mimetype": "text/x-python",
   "name": "python",
   "nbconvert_exporter": "python",
   "pygments_lexer": "ipython3",
   "version": "3.8.5"
  }
 },
 "nbformat": 4,
 "nbformat_minor": 5
}
