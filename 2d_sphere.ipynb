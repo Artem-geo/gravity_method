{
 "cells": [
  {
   "cell_type": "code",
   "execution_count": 99,
   "id": "8d804d84",
   "metadata": {},
   "outputs": [],
   "source": [
    "import numpy as np\n",
    "import matplotlib.pyplot as plt\n",
    "import seaborn as sns\n",
    "sns.set_style('whitegrid')\n",
    "import ipywidgets as widgets\n",
    "from ipywidgets import interact, interactive\n",
    "from IPython.display import display"
   ]
  },
  {
   "cell_type": "code",
   "execution_count": 96,
   "id": "222d82a3",
   "metadata": {},
   "outputs": [],
   "source": [
    "def excess_mass(dsigma, R):\n",
    "    return 4/3 * np.pi * R**3 * dsigma"
   ]
  },
  {
   "cell_type": "code",
   "execution_count": 97,
   "id": "520eac19",
   "metadata": {},
   "outputs": [],
   "source": [
    "def grav_sphere(x, z, M):\n",
    "    G = 6.67 * 10**-11\n",
    "    \n",
    "    return G*M*z/(x**2 + z**2)**(3/2)"
   ]
  },
  {
   "cell_type": "code",
   "execution_count": 98,
   "id": "710be38c",
   "metadata": {},
   "outputs": [],
   "source": [
    "def plot_graph_circle(z, R, sigma1, sigma2):\n",
    "    \n",
    "    x = np.linspace(-200, 200, 100)\n",
    "    \n",
    "    dsigma = sigma1 - sigma2\n",
    "    M = excess_mass(dsigma, R)\n",
    "    \n",
    "    dg = grav_sphere(x, z, M)\n",
    "    \n",
    "    fig, axs = plt.subplots(nrows=2, ncols=1, sharex=True)\n",
    "    \n",
    "    # graph\n",
    "    axs[0].plot(x, dg)\n",
    "    \n",
    "    # sphere\n",
    "    circle = plt.Circle((0, z), radius=R, color='blue', alpha=0.5)\n",
    "    axs[1].add_patch(circle)\n",
    "    axs[1].set_ylim(0, 100)\n",
    "    axs[1].set_xlim(-200, 200)\n",
    "    axs[1].set_aspect(aspect='equal')\n",
    "    axs[1].invert_yaxis()\n",
    "    \n",
    "    plt.tight_layout()"
   ]
  },
  {
   "cell_type": "code",
   "execution_count": 102,
   "id": "4193ddfc",
   "metadata": {
    "scrolled": true
   },
   "outputs": [
    {
     "data": {
      "image/png": "[encoded data removed]",
      "text/plain": [
       "<Figure size 432x288 with 2 Axes>"
      ]
     },
     "metadata": {},
     "output_type": "display_data"
    }
   ],
   "source": [
    "plot_graph_circle(z=50, R=10, sigma1=20, sigma2=10)"
   ]
  },
  {
   "cell_type": "code",
   "execution_count": null,
   "id": "c1f5d723",
   "metadata": {},
   "outputs": [],
   "source": [
    "z = widgets.IntSlider(value=30, min=10, max=90, step=1)\n",
    "R = widgets.IntSlider(value=5, min=1, max=10, step=1)\n",
    "sigma_sphere = widgets.FloatSlider(value=10, min=1, max=22, step=0.2)\n",
    "sigma_space = widgets.FloatSlider(value=2.6, min=1.4, max=3.6, step=0.2)\n",
    "\n",
    "w = interactive(plot_graph_circle, z, R, sigma_sphere, sigma_space)\n",
    "display(w)"
   ]
  }
 ],
 "metadata": {
  "kernelspec": {
   "display_name": "Python 3",
   "language": "python",
   "name": "python3"
  },
  "language_info": {
   "codemirror_mode": {
    "name": "ipython",
    "version": 3
   },
   "file_extension": ".py",
   "mimetype": "text/x-python",
   "name": "python",
   "nbconvert_exporter": "python",
   "pygments_lexer": "ipython3",
   "version": "3.8.8"
  }
 },
 "nbformat": 4,
 "nbformat_minor": 5
}
